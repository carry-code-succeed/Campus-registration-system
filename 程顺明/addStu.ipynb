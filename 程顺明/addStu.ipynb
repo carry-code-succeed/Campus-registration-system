{
 "cells": [
  {
   "cell_type": "code",
   "execution_count": 34,
   "metadata": {},
   "outputs": [],
   "source": [
    "#Stunum:学号 name:姓名 enterTime:进入时间 leaveTime:出校时间\n",
    "student=[]\n",
    "def addStu(a,b,c):\n",
    "    info={\n",
    "        'Stunum':' ',\n",
    "        'name':' ',\n",
    "        'enterTime':' ',\n",
    "        'leaveTime':'  ' \n",
    "     }\n",
    "    \n",
    "    for i in range(0,len(student)):\n",
    "        if(a==student[i]['Stunum']):\n",
    "            return student\n",
    "        \n",
    "    info['Stunum']=a\n",
    "    info['name']=b\n",
    "    info['enterTime']=c\n",
    "    student.append(info)\n",
    "    return student"
   ]
  }
 ],
 "metadata": {
  "kernelspec": {
   "display_name": "Python 3",
   "language": "python",
   "name": "python3"
  },
  "language_info": {
   "codemirror_mode": {
    "name": "ipython",
    "version": 3
   },
   "file_extension": ".py",
   "mimetype": "text/x-python",
   "name": "python",
   "nbconvert_exporter": "python",
   "pygments_lexer": "ipython3",
   "version": "3.7.1"
  }
 },
 "nbformat": 4,
 "nbformat_minor": 2
}
