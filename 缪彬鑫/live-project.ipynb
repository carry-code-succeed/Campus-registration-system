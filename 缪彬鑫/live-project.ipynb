{
 "cells": [
  {
   "cell_type": "code",
   "execution_count": 62,
   "metadata": {},
   "outputs": [],
   "source": [
    "def StuNumFind(list,num):\n",
    "    f = 0     #标记\n",
    "    n = len(list)  #统计数组行\n",
    "    for i in range(n):   #行循环\n",
    "        if(list[i][0]==num):\n",
    "            f =1         #表明查找到学号\n",
    "            print(\"找到此学生，信息如下：\")\n",
    "            print(\"学号：%s\\n姓名：%s\\n进来时间：%s\\n出去时间: %s\\n\"%(list[i][0],list[i][1],list[i][2],list[i][3]))\n",
    "    if(f==0):\n",
    "        print(\"没有此学生姓名，查询失败\")\n",
    "    \n"
   ]
  }
 ],
 "metadata": {
  "kernelspec": {
   "display_name": "Python 3",
   "language": "python",
   "name": "python3"
  },
  "language_info": {
   "codemirror_mode": {
    "name": "ipython",
    "version": 3
   },
   "file_extension": ".py",
   "mimetype": "text/x-python",
   "name": "python",
   "nbconvert_exporter": "python",
   "pygments_lexer": "ipython3",
   "version": "3.7.1"
  }
 },
 "nbformat": 4,
 "nbformat_minor": 2
}
