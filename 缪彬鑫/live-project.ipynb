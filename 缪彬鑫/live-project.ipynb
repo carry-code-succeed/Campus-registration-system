{
 "cells": [
  {
   "cell_type": "code",
   "execution_count": 46,
   "metadata": {},
   "outputs": [
    {
     "name": "stdout",
     "output_type": "stream",
     "text": [
      "['211706122', 'jack', '2020.4.8  7:00', '']\n",
      "['211706122', 'jack', '2020.4.9  15:00', '']\n"
     ]
    }
   ],
   "source": [
    "#import numpy as np\n",
    "Stulist=[['211706122','jack','2020.4.8  7:00',''],\n",
    "         ['211706123','ban','2020.4.8  9:00',''],\n",
    "         ['211706124','alice','2020.4.8  11:00',''],\n",
    "         ['211706122','jack','2020.4.9  15:00','']]\n",
    "def StuNumFind(list,num):\n",
    "    n = len(list)\n",
    "    for i in range(n):#行\n",
    "        if(list[i][0]==num):\n",
    "            print(list[i])\n",
    "    \n",
    "StuNumFind(Stulist,'211706122')"
   ]
  },
  {
   "cell_type": "code",
   "execution_count": 31,
   "metadata": {},
   "outputs": [
    {
     "data": {
      "text/plain": [
       "3"
      ]
     },
     "execution_count": 31,
     "metadata": {},
     "output_type": "execute_result"
    }
   ],
   "source": [
    "len(Stulist)"
   ]
  },
  {
   "cell_type": "code",
   "execution_count": 32,
   "metadata": {},
   "outputs": [
    {
     "name": "stdout",
     "output_type": "stream",
     "text": [
      "['211706122', 'jack', '2020.4.8  7:00', '']\n"
     ]
    }
   ],
   "source": [
    "print(Stulist[0])"
   ]
  },
  {
   "cell_type": "code",
   "execution_count": null,
   "metadata": {},
   "outputs": [],
   "source": []
  }
 ],
 "metadata": {
  "kernelspec": {
   "display_name": "Python 3",
   "language": "python",
   "name": "python3"
  },
  "language_info": {
   "codemirror_mode": {
    "name": "ipython",
    "version": 3
   },
   "file_extension": ".py",
   "mimetype": "text/x-python",
   "name": "python",
   "nbconvert_exporter": "python",
   "pygments_lexer": "ipython3",
   "version": "3.7.1"
  }
 },
 "nbformat": 4,
 "nbformat_minor": 2
}
