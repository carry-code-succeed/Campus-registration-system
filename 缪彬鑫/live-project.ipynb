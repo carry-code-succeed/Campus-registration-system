{
 "cells": [
  {
   "cell_type": "code",
   "execution_count": 62,
   "metadata": {},
   "outputs": [],
   "source": [
    "#测试数组\n",
    "Stulist=[['211706122','jack','2020.4.8  7:00','2020.4.8  12:00'],\n",
    "         ['211706123','ban','2020.4.8  9:00',''],\n",
    "         ['211706124','alice','2020.4.8  11:00',''],\n",
    "         ['211706122','jack','2020.4.9  15:00','']]\n",
    "\n",
    "def StuNumFind(list,num):\n",
    "    f = 0     #标记\n",
    "    n = len(list)  #统计数组行\n",
    "    for i in range(n):   #行循环\n",
    "        if(list[i][0]==num):\n",
    "            f =1         #表明查找到学号\n",
    "            print(\"找到此学生，信息如下：\")\n",
    "            print(\"学号：%s\\n姓名：%s\\n进来时间：%s\\n出去时间: %s\\n\"%(list[i][0],list[i][1],list[i][2],list[i][3]))\n",
    "    if(f==0):\n",
    "        print(\"没有此学生姓名，查询失败\")\n",
    "    \n"
   ]
  },
  {
   "cell_type": "code",
   "execution_count": 63,
   "metadata": {},
   "outputs": [
    {
     "name": "stdout",
     "output_type": "stream",
     "text": [
      "找到此学生，信息如下：\n",
      "学号：211706122\n",
      "姓名：jack\n",
      "进来时间：2020.4.8  7:00\n",
      "出去时间: 2020.4.8  12:00\n",
      "\n",
      "找到此学生，信息如下：\n",
      "学号：211706122\n",
      "姓名：jack\n",
      "进来时间：2020.4.9  15:00\n",
      "出去时间: \n",
      "\n"
     ]
    }
   ],
   "source": [
    "StuNumFind(Stulist,'211706122')"
   ]
  },
  {
   "cell_type": "code",
   "execution_count": 64,
   "metadata": {},
   "outputs": [
    {
     "name": "stdout",
     "output_type": "stream",
     "text": [
      "没有此学生姓名，查询失败\n"
     ]
    }
   ],
   "source": [
    "StuNumFind(Stulist,'211706125')"
   ]
  },
  {
   "cell_type": "code",
   "execution_count": null,
   "metadata": {},
   "outputs": [],
   "source": []
  }
 ],
 "metadata": {
  "kernelspec": {
   "display_name": "Python 3",
   "language": "python",
   "name": "python3"
  },
  "language_info": {
   "codemirror_mode": {
    "name": "ipython",
    "version": 3
   },
   "file_extension": ".py",
   "mimetype": "text/x-python",
   "name": "python",
   "nbconvert_exporter": "python",
   "pygments_lexer": "ipython3",
   "version": "3.7.1"
  }
 },
 "nbformat": 4,
 "nbformat_minor": 2
}
