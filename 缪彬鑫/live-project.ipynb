{
 "cells": [
  {
   "cell_type": "code",
   "execution_count": 13,
   "metadata": {},
   "outputs": [
    {
     "name": "stdout",
     "output_type": "stream",
     "text": [
      "0\n"
     ]
    }
   ],
   "source": [
    "Stulist=[['211706122','jack','2020.4.8  7:00',''],\n",
    "         ['211706123','ban','2020.4.8  9:00',''],\n",
    "         ['211706124','alice','2020.4.8  11:00','']]\n",
    "def StuNumFind(num):\n",
    "    x = Stulist[0].index(num)\n",
    "#    for i in range \n",
    "    print(x)\n",
    "    \n",
    "StuNumFind('211706122')"
   ]
  },
  {
   "cell_type": "code",
   "execution_count": null,
   "metadata": {},
   "outputs": [],
   "source": []
  }
 ],
 "metadata": {
  "kernelspec": {
   "display_name": "Python 3",
   "language": "python",
   "name": "python3"
  },
  "language_info": {
   "codemirror_mode": {
    "name": "ipython",
    "version": 3
   },
   "file_extension": ".py",
   "mimetype": "text/x-python",
   "name": "python",
   "nbconvert_exporter": "python",
   "pygments_lexer": "ipython3",
   "version": "3.7.1"
  }
 },
 "nbformat": 4,
 "nbformat_minor": 2
}
