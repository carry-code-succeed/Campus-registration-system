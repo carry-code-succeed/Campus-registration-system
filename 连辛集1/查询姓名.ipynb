{
 "cells": [
  {
   "cell_type": "code",
   "execution_count": 4,
   "metadata": {},
   "outputs": [
    {
     "name": "stdout",
     "output_type": "stream",
     "text": [
      "找到此学生，信息如下：\n",
      "学号：211706178\n",
      "姓名：aaa\n",
      "进来时间：133\n",
      "出去时间: 123\n",
      "\n"
     ]
    }
   ],
   "source": [
    "dengjibiao = [['211706178', 'aaa', '133', '123'],\n",
    "              ['211706125', 'bbb', '223', '674'],\n",
    "              ['211706152', 'ccc', '534', '144'],\n",
    "              ['211706133', 'ddd', '321', '345'],\n",
    "              ['211706202', 'eee', '756', '964'],\n",
    "              ['211706111', 'fff', '453', '363'],\n",
    "              ['211706145', 'ggg', '222', '125'],\n",
    "              ['211706333', 'hhh', '333', '634'],\n",
    "              ['211706166', 'iii', '633', '747']]\n",
    "def searchName(list,num):\n",
    "    leap=0\n",
    "    for temp in range (len(dengjibiao)):\n",
    "        if dengjibiao[temp][1]== num:\n",
    "                leap=1\n",
    "                break\n",
    "    if leap==0:\n",
    "        print(\"没有此学生姓名，查询失败\")\n",
    "    else:\n",
    "        print(\"找到此学生，信息如下：\")\n",
    "        print(\"学号：%s\\n姓名：%s\\n进来时间：%s\\n出去时间: %s\\n\"%(dengjibiao[temp][0],dengjibiao[temp][1],dengjibiao[temp][2],dengjibiao[temp][3]))\n",
    "searchName(dengjibiao,'aaa')"
   ]
  },
  {
   "cell_type": "code",
   "execution_count": null,
   "metadata": {},
   "outputs": [],
   "source": []
  }
 ],
 "metadata": {
  "kernelspec": {
   "display_name": "Python 3",
   "language": "python",
   "name": "python3"
  },
  "language_info": {
   "codemirror_mode": {
    "name": "ipython",
    "version": 3
   },
   "file_extension": ".py",
   "mimetype": "text/x-python",
   "name": "python",
   "nbconvert_exporter": "python",
   "pygments_lexer": "ipython3",
   "version": "3.7.4"
  }
 },
 "nbformat": 4,
 "nbformat_minor": 2
}
