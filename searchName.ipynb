{
 "cells": [
  {
   "cell_type": "code",
   "execution_count": 25,
   "metadata": {},
   "outputs": [
    {
     "name": "stdout",
     "output_type": "stream",
     "text": [
      "找到此学生，信息如下：\n",
      "学号：211706184\n",
      "姓名：Tom\n",
      "进来时间：2020 1.2 12:23\n",
      "出去时间: 2020 1.2 15:21\n",
      "\n"
     ]
    }
   ],
   "source": [
    "student=[\n",
    "        ['211706184','Tom','2020 1.2 12:23','2020 1.2 15:21'],\n",
    "        ['211706195','Jack','2020 2.23 16:12','2020 2.23 19:23'],\n",
    "        ['211706202','Mary','2020 3.16 17:23','2020 3.16 19:12'],\n",
    "    ]\n",
    "def searchName(list,num):\n",
    "    leap=0\n",
    "    for temp in range (len(student)):\n",
    "        if student[temp][1]== num:\n",
    "                leap=1\n",
    "                break\n",
    "    if leap==0:\n",
    "        print(\"没有此学生姓名，查询失败\")\n",
    "    else:\n",
    "        print(\"找到此学生，信息如下：\")\n",
    "        print(\"学号：%s\\n姓名：%s\\n进来时间：%s\\n出去时间: %s\\n\"%(student[temp][0],student[temp][1],student[temp][2],student[temp][3]))\n",
    "searchName(student,'Tom')"
   ]
  },
  {
   "cell_type": "code",
   "execution_count": null,
   "metadata": {},
   "outputs": [],
   "source": []
  }
 ],
 "metadata": {
  "kernelspec": {
   "display_name": "Python 3",
   "language": "python",
   "name": "python3"
  },
  "language_info": {
   "codemirror_mode": {
    "name": "ipython",
    "version": 3
   },
   "file_extension": ".py",
   "mimetype": "text/x-python",
   "name": "python",
   "nbconvert_exporter": "python",
   "pygments_lexer": "ipython3",
   "version": "3.7.4"
  }
 },
 "nbformat": 4,
 "nbformat_minor": 2
}
